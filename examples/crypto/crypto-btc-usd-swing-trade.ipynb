{
  "cells": [
    {
      "cell_type": "markdown",
      "metadata": {
        "id": "-wWnHTD8yPKS"
      },
      "source": [
        "<b>Note: This Jupyter Notebook is associated with the article [How to Trade BTC/USD on Alpaca and TradingView](https://alpaca.markets/learn/btc-usd-alpaca-tradingview).</b>"
      ]
    },
    {
      "cell_type": "markdown",
      "metadata": {
        "id": "j83mQhR5yPKT"
      },
      "source": [
        "[![Open In Colab](https://colab.research.google.com/assets/colab-badge.svg)](https://colab.research.google.com/github/alpacahq/alpaca-py/blob/master/examples/crypto/crypto-btc-usd-swing-trade.ipynb)"
      ]
    },
    {
      "cell_type": "markdown",
      "metadata": {
        "id": "CDgNvRIryPKT"
      },
      "source": [
        "# Step 1: Setting Up the Bitcoin Trading Environment"
      ]
    },
    {
      "cell_type": "code",
      "execution_count": 2,
      "metadata": {
        "id": "259zvR9AyPKU",
        "outputId": "900ac47d-617e-49ea-dd50-8dc4410620b2",
        "colab": {
          "base_uri": "https://localhost:8080/"
        }
      },
      "outputs": [
        {
          "output_type": "stream",
          "name": "stdout",
          "text": [
            "Collecting alpaca-py\n",
            "  Downloading alpaca_py-0.40.1-py3-none-any.whl.metadata (13 kB)\n",
            "Requirement already satisfied: msgpack<2.0.0,>=1.0.3 in /usr/local/lib/python3.11/dist-packages (from alpaca-py) (1.1.0)\n",
            "Requirement already satisfied: pandas>=1.5.3 in /usr/local/lib/python3.11/dist-packages (from alpaca-py) (2.2.2)\n",
            "Requirement already satisfied: pydantic<3.0.0,>=2.0.3 in /usr/local/lib/python3.11/dist-packages (from alpaca-py) (2.11.4)\n",
            "Requirement already satisfied: requests<3.0.0,>=2.30.0 in /usr/local/lib/python3.11/dist-packages (from alpaca-py) (2.32.3)\n",
            "Collecting sseclient-py<2.0.0,>=1.7.2 (from alpaca-py)\n",
            "  Downloading sseclient_py-1.8.0-py2.py3-none-any.whl.metadata (2.0 kB)\n",
            "Requirement already satisfied: websockets>=10.4 in /usr/local/lib/python3.11/dist-packages (from alpaca-py) (15.0.1)\n",
            "Requirement already satisfied: numpy>=1.23.2 in /usr/local/lib/python3.11/dist-packages (from pandas>=1.5.3->alpaca-py) (2.0.2)\n",
            "Requirement already satisfied: python-dateutil>=2.8.2 in /usr/local/lib/python3.11/dist-packages (from pandas>=1.5.3->alpaca-py) (2.9.0.post0)\n",
            "Requirement already satisfied: pytz>=2020.1 in /usr/local/lib/python3.11/dist-packages (from pandas>=1.5.3->alpaca-py) (2025.2)\n",
            "Requirement already satisfied: tzdata>=2022.7 in /usr/local/lib/python3.11/dist-packages (from pandas>=1.5.3->alpaca-py) (2025.2)\n",
            "Requirement already satisfied: annotated-types>=0.6.0 in /usr/local/lib/python3.11/dist-packages (from pydantic<3.0.0,>=2.0.3->alpaca-py) (0.7.0)\n",
            "Requirement already satisfied: pydantic-core==2.33.2 in /usr/local/lib/python3.11/dist-packages (from pydantic<3.0.0,>=2.0.3->alpaca-py) (2.33.2)\n",
            "Requirement already satisfied: typing-extensions>=4.12.2 in /usr/local/lib/python3.11/dist-packages (from pydantic<3.0.0,>=2.0.3->alpaca-py) (4.13.2)\n",
            "Requirement already satisfied: typing-inspection>=0.4.0 in /usr/local/lib/python3.11/dist-packages (from pydantic<3.0.0,>=2.0.3->alpaca-py) (0.4.1)\n",
            "Requirement already satisfied: charset-normalizer<4,>=2 in /usr/local/lib/python3.11/dist-packages (from requests<3.0.0,>=2.30.0->alpaca-py) (3.4.2)\n",
            "Requirement already satisfied: idna<4,>=2.5 in /usr/local/lib/python3.11/dist-packages (from requests<3.0.0,>=2.30.0->alpaca-py) (3.10)\n",
            "Requirement already satisfied: urllib3<3,>=1.21.1 in /usr/local/lib/python3.11/dist-packages (from requests<3.0.0,>=2.30.0->alpaca-py) (2.4.0)\n",
            "Requirement already satisfied: certifi>=2017.4.17 in /usr/local/lib/python3.11/dist-packages (from requests<3.0.0,>=2.30.0->alpaca-py) (2025.4.26)\n",
            "Requirement already satisfied: six>=1.5 in /usr/local/lib/python3.11/dist-packages (from python-dateutil>=2.8.2->pandas>=1.5.3->alpaca-py) (1.17.0)\n",
            "Downloading alpaca_py-0.40.1-py3-none-any.whl (121 kB)\n",
            "\u001b[2K   \u001b[90m━━━━━━━━━━━━━━━━━━━━━━━━━━━━━━━━━━━━━━━━\u001b[0m \u001b[32m121.7/121.7 kB\u001b[0m \u001b[31m3.3 MB/s\u001b[0m eta \u001b[36m0:00:00\u001b[0m\n",
            "\u001b[?25hDownloading sseclient_py-1.8.0-py2.py3-none-any.whl (8.8 kB)\n",
            "Installing collected packages: sseclient-py, alpaca-py\n",
            "Successfully installed alpaca-py-0.40.1 sseclient-py-1.8.0\n",
            "Collecting git+https://github.com/twopirllc/pandas-ta\n",
            "  Cloning https://github.com/twopirllc/pandas-ta to /tmp/pip-req-build-z7zz43m0\n",
            "  Running command git clone --filter=blob:none --quiet https://github.com/twopirllc/pandas-ta /tmp/pip-req-build-z7zz43m0\n",
            "  fatal: could not read Username for 'https://github.com': No such device or address\n",
            "  \u001b[1;31merror\u001b[0m: \u001b[1msubprocess-exited-with-error\u001b[0m\n",
            "  \n",
            "  \u001b[31m×\u001b[0m \u001b[32mgit clone --\u001b[0m\u001b[32mfilter\u001b[0m\u001b[32m=\u001b[0m\u001b[32mblob\u001b[0m\u001b[32m:none --quiet \u001b[0m\u001b[4;32mhttps://github.com/twopirllc/pandas-ta\u001b[0m\u001b[32m \u001b[0m\u001b[32m/tmp/\u001b[0m\u001b[32mpip-req-build-z7zz43m0\u001b[0m did not run successfully.\n",
            "  \u001b[31m│\u001b[0m exit code: \u001b[1;36m128\u001b[0m\n",
            "  \u001b[31m╰─>\u001b[0m See above for output.\n",
            "  \n",
            "  \u001b[1;35mnote\u001b[0m: This error originates from a subprocess, and is likely not a problem with pip.\n",
            "\u001b[1;31merror\u001b[0m: \u001b[1msubprocess-exited-with-error\u001b[0m\n",
            "\n",
            "\u001b[31m×\u001b[0m \u001b[32mgit clone --\u001b[0m\u001b[32mfilter\u001b[0m\u001b[32m=\u001b[0m\u001b[32mblob\u001b[0m\u001b[32m:none --quiet \u001b[0m\u001b[4;32mhttps://github.com/twopirllc/pandas-ta\u001b[0m\u001b[32m \u001b[0m\u001b[32m/tmp/\u001b[0m\u001b[32mpip-req-build-z7zz43m0\u001b[0m did not run successfully.\n",
            "\u001b[31m│\u001b[0m exit code: \u001b[1;36m128\u001b[0m\n",
            "\u001b[31m╰─>\u001b[0m See above for output.\n",
            "\n",
            "\u001b[1;35mnote\u001b[0m: This error originates from a subprocess, and is likely not a problem with pip.\n"
          ]
        }
      ],
      "source": [
        "# Install or upgrade the package `alpaca-py` and import it\n",
        "# !python3 -m pip install --upgrade alpaca-py\n",
        "# Install or upgrade the package `pandas-ta`\n",
        "# !python3 -m pip install -U git+https://github.com/twopirllc/pandas-ta\n",
        "!python3 -m pip install --upgrade alpaca-py\n",
        "!python3 -m pip install -U git+https://github.com/twopirllc/pandas-ta"
      ]
    },
    {
      "cell_type": "code",
      "source": [
        "pip install pandas-ta"
      ],
      "metadata": {
        "id": "Lr2xFBN90mfh",
        "outputId": "7906941f-d254-4870-82fa-23a412e2f38f",
        "colab": {
          "base_uri": "https://localhost:8080/"
        }
      },
      "execution_count": 5,
      "outputs": [
        {
          "output_type": "stream",
          "name": "stdout",
          "text": [
            "Requirement already satisfied: pandas-ta in /usr/local/lib/python3.11/dist-packages (0.3.14b0)\n",
            "Requirement already satisfied: pandas in /usr/local/lib/python3.11/dist-packages (from pandas-ta) (2.2.2)\n",
            "Requirement already satisfied: numpy>=1.23.2 in /usr/local/lib/python3.11/dist-packages (from pandas->pandas-ta) (2.0.2)\n",
            "Requirement already satisfied: python-dateutil>=2.8.2 in /usr/local/lib/python3.11/dist-packages (from pandas->pandas-ta) (2.9.0.post0)\n",
            "Requirement already satisfied: pytz>=2020.1 in /usr/local/lib/python3.11/dist-packages (from pandas->pandas-ta) (2025.2)\n",
            "Requirement already satisfied: tzdata>=2022.7 in /usr/local/lib/python3.11/dist-packages (from pandas->pandas-ta) (2025.2)\n",
            "Requirement already satisfied: six>=1.5 in /usr/local/lib/python3.11/dist-packages (from python-dateutil>=2.8.2->pandas->pandas-ta) (1.17.0)\n"
          ]
        }
      ]
    },
    {
      "cell_type": "code",
      "execution_count": 4,
      "metadata": {
        "id": "gemWohjOyPKU",
        "outputId": "4c760fad-ef95-4049-b9d8-3ef9edd2293a",
        "colab": {
          "base_uri": "https://localhost:8080/",
          "height": 564
        }
      },
      "outputs": [
        {
          "output_type": "error",
          "ename": "ImportError",
          "evalue": "cannot import name 'NaN' from 'numpy' (/usr/local/lib/python3.11/dist-packages/numpy/__init__.py)",
          "traceback": [
            "\u001b[0;31m---------------------------------------------------------------------------\u001b[0m",
            "\u001b[0;31mImportError\u001b[0m                               Traceback (most recent call last)",
            "\u001b[0;32m<ipython-input-4-33f44780259a>\u001b[0m in \u001b[0;36m<cell line: 0>\u001b[0;34m()\u001b[0m\n\u001b[1;32m      6\u001b[0m \u001b[0;32mimport\u001b[0m \u001b[0mnumpy\u001b[0m \u001b[0;32mas\u001b[0m \u001b[0mnp\u001b[0m\u001b[0;34m\u001b[0m\u001b[0;34m\u001b[0m\u001b[0m\n\u001b[1;32m      7\u001b[0m \u001b[0;32mimport\u001b[0m \u001b[0mpandas\u001b[0m \u001b[0;32mas\u001b[0m \u001b[0mpd\u001b[0m\u001b[0;34m\u001b[0m\u001b[0;34m\u001b[0m\u001b[0m\n\u001b[0;32m----> 8\u001b[0;31m \u001b[0;32mimport\u001b[0m \u001b[0mpandas_ta\u001b[0m \u001b[0;32mas\u001b[0m \u001b[0mta\u001b[0m  \u001b[0;31m# The installment of pandas-ta may be tricky. Please find the pypi page here (https://pypi.org/project/pandas-ta/)\u001b[0m\u001b[0;34m\u001b[0m\u001b[0;34m\u001b[0m\u001b[0m\n\u001b[0m\u001b[1;32m      9\u001b[0m \u001b[0;32mimport\u001b[0m \u001b[0mmatplotlib\u001b[0m\u001b[0;34m.\u001b[0m\u001b[0mpyplot\u001b[0m \u001b[0;32mas\u001b[0m \u001b[0mplt\u001b[0m\u001b[0;34m\u001b[0m\u001b[0;34m\u001b[0m\u001b[0m\n\u001b[1;32m     10\u001b[0m \u001b[0;34m\u001b[0m\u001b[0m\n",
            "\u001b[0;32m/usr/local/lib/python3.11/dist-packages/pandas_ta/__init__.py\u001b[0m in \u001b[0;36m<module>\u001b[0;34m\u001b[0m\n\u001b[1;32m    114\u001b[0m }\n\u001b[1;32m    115\u001b[0m \u001b[0;34m\u001b[0m\u001b[0m\n\u001b[0;32m--> 116\u001b[0;31m \u001b[0;32mfrom\u001b[0m \u001b[0mpandas_ta\u001b[0m\u001b[0;34m.\u001b[0m\u001b[0mcore\u001b[0m \u001b[0;32mimport\u001b[0m \u001b[0;34m*\u001b[0m\u001b[0;34m\u001b[0m\u001b[0;34m\u001b[0m\u001b[0m\n\u001b[0m",
            "\u001b[0;32m/usr/local/lib/python3.11/dist-packages/pandas_ta/core.py\u001b[0m in \u001b[0;36m<module>\u001b[0;34m\u001b[0m\n\u001b[1;32m     16\u001b[0m \u001b[0;32mfrom\u001b[0m \u001b[0mpandas_ta\u001b[0m\u001b[0;34m.\u001b[0m\u001b[0mcandles\u001b[0m \u001b[0;32mimport\u001b[0m \u001b[0;34m*\u001b[0m\u001b[0;34m\u001b[0m\u001b[0;34m\u001b[0m\u001b[0m\n\u001b[1;32m     17\u001b[0m \u001b[0;32mfrom\u001b[0m \u001b[0mpandas_ta\u001b[0m\u001b[0;34m.\u001b[0m\u001b[0mcycles\u001b[0m \u001b[0;32mimport\u001b[0m \u001b[0;34m*\u001b[0m\u001b[0;34m\u001b[0m\u001b[0;34m\u001b[0m\u001b[0m\n\u001b[0;32m---> 18\u001b[0;31m \u001b[0;32mfrom\u001b[0m \u001b[0mpandas_ta\u001b[0m\u001b[0;34m.\u001b[0m\u001b[0mmomentum\u001b[0m \u001b[0;32mimport\u001b[0m \u001b[0;34m*\u001b[0m\u001b[0;34m\u001b[0m\u001b[0;34m\u001b[0m\u001b[0m\n\u001b[0m\u001b[1;32m     19\u001b[0m \u001b[0;32mfrom\u001b[0m \u001b[0mpandas_ta\u001b[0m\u001b[0;34m.\u001b[0m\u001b[0moverlap\u001b[0m \u001b[0;32mimport\u001b[0m \u001b[0;34m*\u001b[0m\u001b[0;34m\u001b[0m\u001b[0;34m\u001b[0m\u001b[0m\n\u001b[1;32m     20\u001b[0m \u001b[0;32mfrom\u001b[0m \u001b[0mpandas_ta\u001b[0m\u001b[0;34m.\u001b[0m\u001b[0mperformance\u001b[0m \u001b[0;32mimport\u001b[0m \u001b[0;34m*\u001b[0m\u001b[0;34m\u001b[0m\u001b[0;34m\u001b[0m\u001b[0m\n",
            "\u001b[0;32m/usr/local/lib/python3.11/dist-packages/pandas_ta/momentum/__init__.py\u001b[0m in \u001b[0;36m<module>\u001b[0;34m\u001b[0m\n\u001b[1;32m     32\u001b[0m \u001b[0;32mfrom\u001b[0m \u001b[0;34m.\u001b[0m\u001b[0msmi\u001b[0m \u001b[0;32mimport\u001b[0m \u001b[0msmi\u001b[0m\u001b[0;34m\u001b[0m\u001b[0;34m\u001b[0m\u001b[0m\n\u001b[1;32m     33\u001b[0m \u001b[0;32mfrom\u001b[0m \u001b[0;34m.\u001b[0m\u001b[0msqueeze\u001b[0m \u001b[0;32mimport\u001b[0m \u001b[0msqueeze\u001b[0m\u001b[0;34m\u001b[0m\u001b[0;34m\u001b[0m\u001b[0m\n\u001b[0;32m---> 34\u001b[0;31m \u001b[0;32mfrom\u001b[0m \u001b[0;34m.\u001b[0m\u001b[0msqueeze_pro\u001b[0m \u001b[0;32mimport\u001b[0m \u001b[0msqueeze_pro\u001b[0m\u001b[0;34m\u001b[0m\u001b[0;34m\u001b[0m\u001b[0m\n\u001b[0m\u001b[1;32m     35\u001b[0m \u001b[0;32mfrom\u001b[0m \u001b[0;34m.\u001b[0m\u001b[0mstc\u001b[0m \u001b[0;32mimport\u001b[0m \u001b[0mstc\u001b[0m\u001b[0;34m\u001b[0m\u001b[0;34m\u001b[0m\u001b[0m\n\u001b[1;32m     36\u001b[0m \u001b[0;32mfrom\u001b[0m \u001b[0;34m.\u001b[0m\u001b[0mstoch\u001b[0m \u001b[0;32mimport\u001b[0m \u001b[0mstoch\u001b[0m\u001b[0;34m\u001b[0m\u001b[0;34m\u001b[0m\u001b[0m\n",
            "\u001b[0;32m/usr/local/lib/python3.11/dist-packages/pandas_ta/momentum/squeeze_pro.py\u001b[0m in \u001b[0;36m<module>\u001b[0;34m\u001b[0m\n\u001b[1;32m      1\u001b[0m \u001b[0;31m# -*- coding: utf-8 -*-\u001b[0m\u001b[0;34m\u001b[0m\u001b[0;34m\u001b[0m\u001b[0m\n\u001b[0;32m----> 2\u001b[0;31m \u001b[0;32mfrom\u001b[0m \u001b[0mnumpy\u001b[0m \u001b[0;32mimport\u001b[0m \u001b[0mNaN\u001b[0m \u001b[0;32mas\u001b[0m \u001b[0mnpNaN\u001b[0m\u001b[0;34m\u001b[0m\u001b[0;34m\u001b[0m\u001b[0m\n\u001b[0m\u001b[1;32m      3\u001b[0m \u001b[0;32mfrom\u001b[0m \u001b[0mpandas\u001b[0m \u001b[0;32mimport\u001b[0m \u001b[0mDataFrame\u001b[0m\u001b[0;34m\u001b[0m\u001b[0;34m\u001b[0m\u001b[0m\n\u001b[1;32m      4\u001b[0m \u001b[0;32mfrom\u001b[0m \u001b[0mpandas_ta\u001b[0m\u001b[0;34m.\u001b[0m\u001b[0mmomentum\u001b[0m \u001b[0;32mimport\u001b[0m \u001b[0mmom\u001b[0m\u001b[0;34m\u001b[0m\u001b[0;34m\u001b[0m\u001b[0m\n\u001b[1;32m      5\u001b[0m \u001b[0;32mfrom\u001b[0m \u001b[0mpandas_ta\u001b[0m\u001b[0;34m.\u001b[0m\u001b[0moverlap\u001b[0m \u001b[0;32mimport\u001b[0m \u001b[0mema\u001b[0m\u001b[0;34m,\u001b[0m \u001b[0msma\u001b[0m\u001b[0;34m\u001b[0m\u001b[0;34m\u001b[0m\u001b[0m\n",
            "\u001b[0;31mImportError\u001b[0m: cannot import name 'NaN' from 'numpy' (/usr/local/lib/python3.11/dist-packages/numpy/__init__.py)",
            "",
            "\u001b[0;31m---------------------------------------------------------------------------\u001b[0;32m\nNOTE: If your import is failing due to a missing package, you can\nmanually install dependencies using either !pip or !apt.\n\nTo view examples of installing some common dependencies, click the\n\"Open Examples\" button below.\n\u001b[0;31m---------------------------------------------------------------------------\u001b[0m\n"
          ],
          "errorDetails": {
            "actions": [
              {
                "action": "open_url",
                "actionText": "Open Examples",
                "url": "/notebooks/snippets/importing_libraries.ipynb"
              }
            ]
          }
        }
      ],
      "source": [
        "# Import standard library modules\n",
        "from datetime import datetime, timedelta\n",
        "from zoneinfo import ZoneInfo\n",
        "\n",
        "# Import third-party modules\n",
        "import numpy as np\n",
        "import pandas as pd\n",
        "import pandas_ta as ta  # The installment of pandas-ta may be tricky. Please find the pypi page here (https://pypi.org/project/pandas-ta/)\n",
        "import matplotlib.pyplot as plt\n",
        "\n",
        "# Import Alpaca modules\n",
        "import alpaca\n",
        "from alpaca.data.historical.crypto import CryptoHistoricalDataClient\n",
        "from alpaca.data.requests import (\n",
        "    CryptoBarsRequest,\n",
        "    CryptoLatestQuoteRequest,\n",
        "    CryptoQuoteRequest,\n",
        "    CryptoTradesRequest,\n",
        ")\n",
        "from alpaca.data.timeframe import TimeFrame, TimeFrameUnit\n",
        "from alpaca.trading.client import TradingClient\n",
        "from alpaca.trading.enums import (\n",
        "    AssetClass,\n",
        "    AssetStatus,\n",
        "    OrderSide,\n",
        "    OrderType,\n",
        "    QueryOrderStatus,\n",
        "    TimeInForce,\n",
        ")\n",
        "from alpaca.trading.requests import LimitOrderRequest, MarketOrderRequest"
      ]
    },
    {
      "cell_type": "code",
      "execution_count": null,
      "metadata": {
        "id": "QOhTVKxxyPKV"
      },
      "outputs": [],
      "source": [
        "# Please change the following to your own PAPER api key and secret\n",
        "# You can get them from https://alpaca.markets/\n",
        "\n",
        "API_KEY = \"<YOUR PAPER API KEY>\"\n",
        "API_SECRET = \"<YOUR PAPER API SECRET>\"\n",
        "\n",
        "#### We use paper environment for this example ####\n",
        "PAPER = True # Please do not modify this. This example is for paper trading only.\n",
        "####\n",
        "\n",
        "# Below are the variables for development this documents\n",
        "# Please do not change these variables\n",
        "trade_api_url = None\n",
        "trade_api_wss = None\n",
        "data_api_url = None\n",
        "stream_data_wss = None\n",
        "\n",
        "# setup trading clients\n",
        "trade_client = TradingClient(api_key=API_KEY, secret_key=API_SECRET, paper=PAPER, url_override=trade_api_url)\n",
        "# setup crypto historical data client\n",
        "crypto_historical_data_client = CryptoHistoricalDataClient(api_key=API_KEY, secret_key=API_SECRET)"
      ]
    },
    {
      "cell_type": "markdown",
      "metadata": {
        "id": "IJ3MmTXKyPKW"
      },
      "source": [
        "# Step 2: Executing Market Data Analysis"
      ]
    },
    {
      "cell_type": "code",
      "execution_count": null,
      "metadata": {
        "id": "DiYsCUrDyPKW"
      },
      "outputs": [],
      "source": [
        "# we will place orders which Alapca trading platform supports\n",
        "# - order types for crypto: market, limit, stop_limit\n",
        "# - time_in_force for crypto: gtc, ioc.\n",
        "# please refer to the following documents for more details\n",
        "# ref. https://docs.alpaca.markets/docs/orders-at-alpaca\n",
        "# ref. https://docs.alpaca.markets/reference/postorder\n",
        "\n",
        "# we will place orders for symbol: BTC/USD in this example\n",
        "symbol = \"BTC/USD\""
      ]
    },
    {
      "cell_type": "code",
      "execution_count": null,
      "metadata": {
        "id": "GTVT3TXRyPKW"
      },
      "outputs": [],
      "source": [
        "# Set the timezone\n",
        "timezone = ZoneInfo(\"America/New_York\")\n",
        "\n",
        "# Get current date in US/Eastern timezone\n",
        "today = datetime.now(timezone).date()\n",
        "\n",
        "# Define the start and end dates for the historical period\n",
        "start_date = today - timedelta(days=365 * 2)\n",
        "end_date = today - timedelta(days=1)\n",
        "\n",
        "# Create the request object\n",
        "req = CryptoBarsRequest(\n",
        "    symbol_or_symbols = [symbol],\n",
        "    timeframe=TimeFrame.Day,\n",
        "    start=start_date,\n",
        "    end_date=end_date,\n",
        ")\n",
        "\n",
        "bars_data = crypto_historical_data_client.get_crypto_bars(req).df.reset_index(level='symbol', drop=True)"
      ]
    },
    {
      "cell_type": "code",
      "execution_count": null,
      "metadata": {
        "id": "1lqcfRi6yPKX"
      },
      "outputs": [],
      "source": [
        "# Create a copy of the dataframe to avoid modifying the original data.\n",
        "df = bars_data.copy()\n",
        "df.head()"
      ]
    },
    {
      "cell_type": "markdown",
      "metadata": {
        "id": "-DIeIXlGyPKX"
      },
      "source": [
        "## Calculating EMA"
      ]
    },
    {
      "cell_type": "code",
      "execution_count": null,
      "metadata": {
        "id": "HhJ6KgFxyPKX"
      },
      "outputs": [],
      "source": [
        "# Define Exponential Moving Average (EMA) periods\n",
        "short_window = 12 # Common short-term period\n",
        "long_window = 26  # Common long-term period\n",
        "\n",
        "# Calculate EMA using pandas.ewm()\n",
        "# 'span' is related to the period N, often approximated as span = N for typical EMA calculations.\n",
        "# 'adjust=False' uses a standard recursive formula common in technical analysis.\n",
        "df[\"ema_short\"] = df[\"close\"].ewm(span=short_window, adjust=False).mean()\n",
        "df[\"ema_long\"] = df[\"close\"].ewm(span=long_window, adjust=False).mean()\n"
      ]
    },
    {
      "cell_type": "markdown",
      "metadata": {
        "id": "eZ9bGtLlyPKX"
      },
      "source": [
        "## Calculating SMA, ATR, and ADX"
      ]
    },
    {
      "cell_type": "code",
      "execution_count": null,
      "metadata": {
        "id": "UXd4MJLdyPKY"
      },
      "outputs": [],
      "source": [
        "# Calculate Simple Moving Average (SMA) using rolling() with 50-day SMA\n",
        "sma_window = 50\n",
        "df[\"sma\"] = df[\"close\"].rolling(window=sma_window).mean()\n",
        "df[[\"close\", \"sma\"]].tail()"
      ]
    },
    {
      "cell_type": "code",
      "execution_count": null,
      "metadata": {
        "id": "y2rYvErEyPKY"
      },
      "outputs": [],
      "source": [
        "# Calculate Average True Range (ATR) - requires high, low, close columns\n",
        "# Default length is 14 periods\n",
        "df.ta.atr(length=14, append=True) # Appends 'ATR_14' column\n",
        "\n",
        "# Calculate Average Directional Index (ADX) - requires high, low, close\n",
        "# Default length is 14 periods\n",
        "# Note: ta.adx() returns ADX, Positive Directional Movement (DMP), and Negative Directional Movement (DMN)\n",
        "df.ta.adx(length=14, append=True) # Appends 'ADX_14', 'DMP_14', 'DMN_14' columns"
      ]
    },
    {
      "cell_type": "markdown",
      "metadata": {
        "id": "T8GJyI0JyPKY"
      },
      "source": [
        "## Visualizing Indicators"
      ]
    },
    {
      "cell_type": "code",
      "execution_count": null,
      "metadata": {
        "id": "iTFguOydyPKY"
      },
      "outputs": [],
      "source": [
        "if not df.empty and \"ema_short\" in df.columns and \"ema_long\" in df.columns:\n",
        "    plt.style.use(\"seaborn-v0_8-darkgrid\") # Use a visually appealing style\n",
        "    plt.figure(figsize=(14, 7))\n",
        "\n",
        "    plt.plot(df.index, df[\"close\"], label=\"Close Price\", color=\"blue\", alpha=0.7)\n",
        "    plt.plot(df.index, df[\"ema_short\"], label=f\"EMA ({short_window})\", color=\"orange\", linestyle=\"--\")\n",
        "    plt.plot(df.index, df[\"ema_long\"], label=f\"EMA ({long_window})\", color=\"purple\", linestyle=\":\")\n",
        "\n",
        "    # Optional: Add crossover points visually\n",
        "    buy_signals = df[df[\"buy_signal\"]] if \"buy_signal\" in df else pd.DataFrame()\n",
        "    sell_signals = df[df[\"sell_signal\"]] if \"sell_signal\" in df else pd.DataFrame()\n",
        "\n",
        "    if not buy_signals.empty:\n",
        "        plt.scatter(buy_signals.index, buy_signals[\"close\"], label=\"Buy Signal\", marker=\"^\", color=\"green\", s=100, zorder=5)\n",
        "    if not sell_signals.empty:\n",
        "        plt.scatter(sell_signals.index, sell_signals[\"close\"], label=\"Sell Signal\", marker=\"v\", color=\"red\", s=100, zorder=5)\n",
        "\n",
        "    plt.title(f'{symbol} Price and EMA Crossover Signals')\n",
        "    plt.xlabel(\"Date\")\n",
        "    plt.ylabel(\"Price\")\n",
        "    plt.legend()\n",
        "    plt.tight_layout() # Adjust layout to prevent labels overlapping\n",
        "    plt.show()\n",
        "else:\n",
        "    print(\"Cannot plot: DataFrame is empty or EMA columns are missing.\")"
      ]
    },
    {
      "cell_type": "markdown",
      "metadata": {
        "id": "gkojXJpGyPKY"
      },
      "source": [
        "# Step 3: Creating a Bitcoin Swing Trading Algorithm with EMAs"
      ]
    },
    {
      "cell_type": "code",
      "execution_count": null,
      "metadata": {
        "id": "46Rxgu2LyPKZ"
      },
      "outputs": [],
      "source": [
        "# Generate Buy Signal\n",
        "# Condition 1: Is the short EMA currently above the long EMA?\n",
        "currently_above = df[\"ema_short\"] > df[\"ema_long\"]\n",
        "# Condition 2: Was the short EMA below or equal to the long EMA on the previous bar?\n",
        "previously_below_or_equal = df[\"ema_short\"].shift(1) <= df[\"ema_long\"].shift(1)\n",
        "# Buy Signal: True only on the bar where the crossover *just* happened\n",
        "df[\"buy_signal\"] = currently_above & previously_below_or_equal\n",
        "\n",
        "# Generate Sell Signal\n",
        "# Condition 1: Is the short EMA currently below the long EMA?\n",
        "currently_below = df[\"ema_short\"] < df[\"ema_long\"]\n",
        "# Condition 2: Was the short EMA above or equal to the long EMA on the previous bar?\n",
        "previously_above_or_equal = df[\"ema_short\"].shift(1) >= df[\"ema_long\"].shift(1)\n",
        "# Sell Signal: True only on the bar where the crossover *just* happened\n",
        "df[\"sell_signal\"] = currently_below & previously_above_or_equal\n",
        "\n",
        "# Display rows where signals occurred\n",
        "print(\"\\nCrossover Signal Occurrences:\")\n",
        "signal_rows = df[df[\"buy_signal\"] | df[\"sell_signal\"]]\n",
        "if not signal_rows.empty:\n",
        "    print(signal_rows[[\"close\", \"ema_short\", \"ema_long\", \"buy_signal\", \"sell_signal\"]])\n",
        "else:\n",
        "    print(\"No crossover signals found in the data.\")\n"
      ]
    },
    {
      "cell_type": "code",
      "execution_count": null,
      "metadata": {
        "id": "kZPrVKRIyPKZ"
      },
      "outputs": [],
      "source": [
        "# Store the latest signal information for potential execution\n",
        "latest_data = df.iloc[-1]\n",
        "print(\"\\nLatest Data Row:\")\n",
        "latest_data[['close', 'ema_short', 'ema_long', 'buy_signal', 'sell_signal']]"
      ]
    },
    {
      "cell_type": "markdown",
      "metadata": {
        "id": "WHUX_xgPyPKZ"
      },
      "source": [
        "# Step 4: Purchasing BTC/USD using Python with Alpaca's Trading API"
      ]
    },
    {
      "cell_type": "markdown",
      "metadata": {
        "id": "cSgI9LZCyPKZ"
      },
      "source": [
        "## Submitting Simple Market Orders"
      ]
    },
    {
      "cell_type": "code",
      "execution_count": null,
      "metadata": {
        "id": "YOm7dkioyPKZ"
      },
      "outputs": [],
      "source": [
        "# simple, market order, notional\n",
        "req = MarketOrderRequest(\n",
        "    symbol = symbol,\n",
        "    notional = 250,  # notional is specified in USD, here we specify $250\n",
        "    side = OrderSide.BUY,\n",
        "    type = OrderType.MARKET,\n",
        "    time_in_force = TimeInForce.GTC,\n",
        ")\n",
        "res = trade_client.submit_order(req)\n",
        "res"
      ]
    },
    {
      "cell_type": "markdown",
      "metadata": {
        "id": "pIU_ODA1yPKZ"
      },
      "source": [
        "## Submitting Limit Order Requests"
      ]
    },
    {
      "cell_type": "code",
      "execution_count": null,
      "metadata": {
        "id": "xxAgQRCGyPKZ"
      },
      "outputs": [],
      "source": [
        "# Function to get latest quotes by symbol\n",
        "def get_latest_quote(symbol):\n",
        "    req = CryptoLatestQuoteRequest(symbol_or_symbols = [symbol])\n",
        "    res = crypto_historical_data_client.get_crypto_latest_quote(req)\n",
        "    return res\n",
        "\n",
        "# Get latest quotes\n",
        "btc_quote = get_latest_quote(\"BTC/USD\")"
      ]
    },
    {
      "cell_type": "code",
      "execution_count": null,
      "metadata": {
        "id": "s3LiRgnPyPKZ"
      },
      "outputs": [],
      "source": [
        "# Get the estimated buying cost of BTC/USD with given qty\n",
        "def calc_cost(quote, qty):\n",
        "    # Calculate total cost of BTC/USD order and round to 4 decimal places\n",
        "    total_cost = round(qty * quote[symbol].ask_price, 4)\n",
        "    return total_cost"
      ]
    },
    {
      "cell_type": "code",
      "execution_count": null,
      "metadata": {
        "id": "S5ah5qOfyPKa"
      },
      "outputs": [],
      "source": [
        "QTY = 0.003\n",
        "cost = calc_cost(btc_quote, qty=QTY)\n",
        "f\"The total cost of BTC/USD order for qtry={QTY} is ${cost}\""
      ]
    },
    {
      "cell_type": "code",
      "execution_count": null,
      "metadata": {
        "id": "K7MumADByPKa"
      },
      "outputs": [],
      "source": [
        "# Define a 6% range around the crypto price\n",
        "LIMIT_RANGE = 0.06\n",
        "\n",
        "# Calculate the limit price as 6% below the current ask price\n",
        "limit_price = btc_quote[symbol].ask_price * (1 - LIMIT_RANGE)\n",
        "f\"The limit price for BTC/USD 'BUY' order for qty={QTY} is ${limit_price}\""
      ]
    },
    {
      "cell_type": "code",
      "execution_count": null,
      "metadata": {
        "id": "CyA5pE8ByPKa"
      },
      "outputs": [],
      "source": [
        "# simple, market order, notional\n",
        "req = LimitOrderRequest(\n",
        "    symbol=symbol,\n",
        "    qty=QTY,\n",
        "    limit_price = limit_price,\n",
        "    side=OrderSide.BUY,\n",
        "    type = OrderType.LIMIT,\n",
        "    time_in_force=TimeInForce.GTC, # TIF=DAY is not available\n",
        ")\n",
        "\n",
        "res = trade_client.submit_order(req)\n",
        "res"
      ]
    }
  ],
  "metadata": {
    "language_info": {
      "name": "python"
    },
    "colab": {
      "provenance": []
    },
    "kernelspec": {
      "name": "python3",
      "display_name": "Python 3"
    }
  },
  "nbformat": 4,
  "nbformat_minor": 0
}